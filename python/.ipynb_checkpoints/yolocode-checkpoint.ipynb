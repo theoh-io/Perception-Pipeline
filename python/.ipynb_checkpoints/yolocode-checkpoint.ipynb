{
 "cells": [
  {
   "cell_type": "code",
   "execution_count": 41,
   "id": "c0744cd8-94ee-42eb-8e35-9486993c62c8",
   "metadata": {},
   "outputs": [],
   "source": [
    "detection=[[0.3, 5.7, 15.9, 17.3, 0.37, 0],\n",
    "           [0.3, 5.7, 19.4, 1.3, 0.62, 1],\n",
    "           [0.3, 5.7, 15.9, 17.3, 0.60, 0]]"
   ]
  },
  {
   "cell_type": "code",
   "execution_count": 42,
   "id": "64afd196-f430-43e8-8cbf-c14642ec5a49",
   "metadata": {},
   "outputs": [
    {
     "name": "stdout",
     "output_type": "stream",
     "text": [
      "3\n"
     ]
    }
   ],
   "source": [
    "N=len(detection)\n",
    "print(N)"
   ]
  },
  {
   "cell_type": "code",
   "execution_count": 43,
   "id": "0e3d0f95-f3d6-4fe0-b371-d63652b26667",
   "metadata": {},
   "outputs": [
    {
     "name": "stdout",
     "output_type": "stream",
     "text": [
      "too long\n"
     ]
    }
   ],
   "source": [
    "if(N != 1):\n",
    "    print(\"too long\")"
   ]
  },
  {
   "cell_type": "code",
   "execution_count": 44,
   "id": "00fb36df-26e8-48ee-b34c-59b8a2791c2a",
   "metadata": {},
   "outputs": [
    {
     "name": "stdout",
     "output_type": "stream",
     "text": [
      "3\n",
      "[0.37 0.62 0.6 ]\n",
      "1\n",
      "[ 0.3   5.7  19.4   1.3   0.62  1.  ]\n"
     ]
    }
   ],
   "source": [
    "#might need to use numpy for its methods argmax ...\n",
    "import numpy as np\n",
    "detection=np.array(detection)\n",
    "print(detection.shape[0])\n",
    "#want to only keep the row where col[4] is max\n",
    "print(detection[range(N),4])\n",
    "idx=np.argmax(detection[range(N),4])\n",
    "print(idx)\n",
    "#extract the wanted detection\n",
    "detection=detection[idx]\n",
    "print(detection)"
   ]
  },
  {
   "cell_type": "code",
   "execution_count": null,
   "id": "d6e82879-a5bf-4fa0-92be-45b5e6a67c46",
   "metadata": {},
   "outputs": [],
   "source": []
  }
 ],
 "metadata": {
  "kernelspec": {
   "display_name": "Python 3 (ipykernel)",
   "language": "python",
   "name": "python3"
  },
  "language_info": {
   "codemirror_mode": {
    "name": "ipython",
    "version": 3
   },
   "file_extension": ".py",
   "mimetype": "text/x-python",
   "name": "python",
   "nbconvert_exporter": "python",
   "pygments_lexer": "ipython3",
   "version": "3.8.10"
  }
 },
 "nbformat": 4,
 "nbformat_minor": 5
}
